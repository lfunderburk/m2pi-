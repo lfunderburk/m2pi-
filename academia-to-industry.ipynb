{
 "cells": [
  {
   "cell_type": "markdown",
   "metadata": {
    "slideshow": {
     "slide_type": "slide"
    }
   },
   "source": [
    "<h2 align='center'>Transitioning from Academia into Industry</h2>\n",
    "\n",
    "<h4 align='center'>Laura Gutierrez Funderburk </h4>\n",
    "\n",
    "<h4 align='center'>Data Scientist at Cybera, Callysto Project</h4>\n",
    "\n",
    "<h4 align='center'>Math 2 Industry, Pacific Institute for the Mathematical Sciences (2021)</h4>\n"
   ]
  },
  {
   "cell_type": "markdown",
   "metadata": {
    "slideshow": {
     "slide_type": "slide"
    }
   },
   "source": [
    "<h2 align='center'>Introductions</h2>\n",
    "\n",
    "<h3 align='center'>About me</h3>\n",
    "\n",
    "* Born in Mexico. Lived in England for a year when I was thirteen. Moved to Canada in 2014. Have a learning disability. \n",
    "\n",
    "* Completed a B.Sc. Mathematics at Simon Fraser University. \n",
    "\n",
    "* First day at full time employment with Cybera, where I work, took place two days after my last final exam. \n",
    "\n",
    "* Enjoy dedicating time to support members from the Python, R and Jupyter communities. \n",
    "\n",
    "* This year I am acting as Chair for the Vancouver DataJam."
   ]
  },
  {
   "cell_type": "markdown",
   "metadata": {
    "slideshow": {
     "slide_type": "slide"
    }
   },
   "source": [
    "<h2 align='center'>Introductions</h2>\n",
    "\n",
    "<h3 align='center'>Tell me about you</h3>\n",
    "\n",
    "* Were you born in a country other than Canada? \n",
    "\n",
    "* What did you study? \n",
    "\n",
    "* Tell me something you are proud of. "
   ]
  },
  {
   "cell_type": "markdown",
   "metadata": {
    "slideshow": {
     "slide_type": "slide"
    }
   },
   "source": [
    "<h2 align='center'>Today's talk at a glance</h2>\n",
    "\n",
    "* What does it mean to transition from academia into industry?\n",
    "\n",
    "* What are some things I did that helped me transition smoothly?\n",
    "\n",
    "* How were they helpful?\n",
    "\n",
    "* What are considerations for post graduation? \n",
    "\n",
    "* The importance of self-advocacy and empathy\n",
    "\n",
    "* Example of work I do (optional)\n",
    "\n",
    "* Q & A"
   ]
  },
  {
   "cell_type": "markdown",
   "metadata": {
    "slideshow": {
     "slide_type": "slide"
    }
   },
   "source": [
    "<h2 align='center'>Acknowledgements</h2>\n",
    "\n",
    "I was fortunate to receive a lot of mentorship during my undergraduate years at SFU. PIMS graciously allowed me to take a desk at the SFU PIMS site, which allowed me to interact with graduate students and postdocs in the Department of Mathematics at SFU. This changed my perspective and the way I approached work. "
   ]
  },
  {
   "cell_type": "markdown",
   "metadata": {
    "slideshow": {
     "slide_type": "slide"
    }
   },
   "source": [
    "<h2 align='center'>Acknowledgements</h2>\n",
    "\n",
    "People who mentored and supported me during my undergraduate years, and with whom I maintain a collaborative relationship (ordered alphabetically by last name):\n",
    "\n",
    "| | |\n",
    "|-|-|\n",
    "|Prof. Emeritus Felix Breden| Prof. Veselin Jungic |\n",
    "|Prof. Cedric Chauve| Prof. Mary-Catherine Kropinski |\n",
    "|Prof. James Colliander| Prof. Michael Lamoureux |\n",
    "|Dr. Brian Corrie | Prof. Nilima Nigam |\n",
    "|Dr. Byron Chu |  Prof. Emerita Jamie Scott  |"
   ]
  },
  {
   "cell_type": "markdown",
   "metadata": {
    "slideshow": {
     "slide_type": "slide"
    }
   },
   "source": [
    "<h2 align='center'>What does it mean to transition from academia into industry?</h2>\n",
    "\n",
    "<b> It is the process of adjusting culturally from an academic environment into employment outside this environment. </b>\n",
    "\n",
    "It is important to acknowledge that it can take time to do a full cultural switch, and that the culture of the workplace depends on the industry, company and people you work with.\n"
   ]
  },
  {
   "cell_type": "markdown",
   "metadata": {
    "slideshow": {
     "slide_type": "subslide"
    }
   },
   "source": [
    "<h2 align='center'>What does it mean to transition from academia into industry?</h2>\n",
    "\n",
    "Key differences:\n",
    "\n",
    "1. Individual vs team efforts.\n",
    "\n",
    "2. Focus of end product: changes in audience will determine language and vocabulary that is most appropriate. \n",
    "\n",
    "3. Type of work performed. \n",
    "\n",
    "4. Relationship building (with your co-workers, customers, stakeholders, or other industries)."
   ]
  },
  {
   "cell_type": "markdown",
   "metadata": {
    "slideshow": {
     "slide_type": "slide"
    }
   },
   "source": [
    "<h2 align='center'>What are some things I did that helped me transition smoothly?</h2>\n",
    "\n",
    "* Took part in several professional development experiences during my undergrad: \n",
    "\n",
    "        1. My first job was at a call centre raising funds.\n",
    "        2. Did a 7-month co-op at the BC Cancer Research Centre in IT.\n",
    "        3. Went on exchange to Germany halfway through my program.\n",
    "        4. If an opportunity to be involved in organizing an event was made available, \n",
    "            I took it, and took it seriously. \n",
    "        5. If an opportunity to be involved in coding events or coding work \n",
    "            tasks were made available, I devoted myself to them."
   ]
  },
  {
   "cell_type": "markdown",
   "metadata": {
    "slideshow": {
     "slide_type": "subslide"
    }
   },
   "source": [
    "<h2 align='center'>What are some things I did that helped me transition smoothly?</h2>\n",
    "\n",
    "* Volunteer:\n",
    "\n",
    "        1. My first coding project was done throughout the course of one year: \n",
    "            wrote Python and Bash scripts that validated sequence alignment data. \n",
    "            It was mostly a learning endeavour, and a role I took knowing there \n",
    "            would be no funds involved.\n",
    "        2. Took on a workshop coordinator role at school: gave people the opportunity \n",
    "            to practice public speaking skills and share programming knowledge.\n",
    "        3. Took on leadership roles within student conferences."
   ]
  },
  {
   "cell_type": "markdown",
   "metadata": {
    "slideshow": {
     "slide_type": "slide"
    }
   },
   "source": [
    "<h2 align='center'>How were these things helpful?</h2>\n",
    "\n",
    "* Part time work translated into soft skill development:\n",
    "\n",
    "       How to work in a team setting, how to navigate difficult situations at work, \n",
    "       how to behave in a professional manner, how to communicate effectively.\n",
    "\n",
    "* Volunteer work led to my full time position: \n",
    "\n",
    "        After a year of volunteering with an SFU professor, he determined \n",
    "        I would be a good fit for the Callysto project. \n",
    "        Volunteering for events like the DataJam signaled \n",
    "        to my employer I had transferable skills for a data science role. \n",
    "       "
   ]
  },
  {
   "cell_type": "markdown",
   "metadata": {
    "slideshow": {
     "slide_type": "subslide"
    }
   },
   "source": [
    "<h3 align='center'>I continue to volunteer to support members of minority groups in data science as well as the Python programming community </h3>\n",
    "\n",
    "This gives me a sense of belonging, it motivates me to learn from others, and gives me a chance to share what I have learned."
   ]
  },
  {
   "cell_type": "markdown",
   "metadata": {
    "slideshow": {
     "slide_type": "slide"
    }
   },
   "source": [
    "<h2 align='center'>What are considerations for post graduation?</h2>\n",
    "\n",
    "\n",
    "1. Determine what matters to you the most, and use this to guide what roles you take on.\n",
    "\n",
    "        Are you seeking to have a meaningful impact in the community? Recognition? \n",
    "        A six figure salary? Leadership? Innovation?\n",
    "        \n",
    "2. Determine what you are willing to do to make this happen.\n",
    "\n",
    "        Working for a prestigious company, for example, might come with greater pressure, \n",
    "        expectation of overtime work (which in tech tends not to be paid for the same way \n",
    "        trade work is), or it might require several years of experience in order to enter. \n",
    "        "
   ]
  },
  {
   "cell_type": "markdown",
   "metadata": {
    "slideshow": {
     "slide_type": "subslide"
    }
   },
   "source": [
    "<h2 align='center'>What are considerations for post graduation?</h2>\n",
    "\n",
    "3. Determine what kind of environment you thrive the most in.\n",
    "\n",
    "        It can be tricky to know this at first, as it will require testing different work\n",
    "        styles and environments. Although it is easy to convince yourself that \n",
    "        you can \"endure\" an environment (and sometimes it is necessary), in the long run\n",
    "        enduring a difficult environment results in decreased motivation, depression, \n",
    "        difficulty forming strong relationships, which in turn can manifest as\n",
    "        difficulty advancing in your career, and even health problems.\n",
    "        \n",
    "        \n",
    "Opinion: a great environment > more money"
   ]
  },
  {
   "cell_type": "markdown",
   "metadata": {
    "slideshow": {
     "slide_type": "slide"
    }
   },
   "source": [
    "<h2 align='center'>The importance of self-advocacy and empathy</h2>\n",
    "\n",
    "\n",
    "Once you determine what matters to you the most, what you are willing to do for it, and your preferred environment, it is time to advocate for yourself to make it happen.\n",
    "\n",
    "The first step is putting yourself out there. Be prepared to follow up if things don't work out the first time. Be prepared to handle rejection. This is part of the process.\n"
   ]
  },
  {
   "cell_type": "markdown",
   "metadata": {
    "slideshow": {
     "slide_type": "subslide"
    }
   },
   "source": [
    "<h2 align='center'>The importance of self-advocacy and empathy</h2>\n",
    "\n",
    "Practice introducing yourself to strangers: \n",
    "\n",
    "    1. Go to local Python and R meetups (RLadies and PyLadies have \n",
    "        Vancouver chapters!). These are beginner-friendly communities.\n",
    "    2. Go to programming conferences: some conferences have \"sprints\". \n",
    "        These sprints allow you to collaborate with others on \n",
    "        a programming or data science project. \n",
    "    3. If you see a group is seeking speakers, and you have experience \n",
    "        in the topic, offer to talk. Even sharing your learning \n",
    "        process can be of huge value to others."
   ]
  },
  {
   "cell_type": "markdown",
   "metadata": {
    "slideshow": {
     "slide_type": "subslide"
    }
   },
   "source": [
    "<h2 align='center'>The importance of self-advocacy and empathy</h2>\n",
    "\n",
    "Ask your mentors, colleagues and friends to help you find opportunities. I was successful transitioning quickly because of how strongly I put myself out there, and because I cared for the relationships I formed along the way. \n"
   ]
  },
  {
   "cell_type": "markdown",
   "metadata": {
    "slideshow": {
     "slide_type": "subslide"
    }
   },
   "source": [
    "<h2 align='center'>The importance of self-advocacy and empathy</h2>\n",
    "\n",
    "I had rough experiences along the way too. Self-advocacy also involves knowing when to step away from a situation, and knowing how to professionally, but firmly, set boundaries. \n",
    "\n",
    "If a situation feels uncomfortable, trust yourself and the signals your body is sending you. Discuss with a trusted person how to best handle the situation. Do your best to strengthen your network when you face a difficult situation."
   ]
  },
  {
   "cell_type": "markdown",
   "metadata": {
    "slideshow": {
     "slide_type": "subslide"
    }
   },
   "source": [
    "<h2 align='center'>The importance of self-advocacy and empathy</h2>\n",
    "\n",
    "Others' experiences with you matter too. When you come into contact with an organization, a potential employer, or a co-worker, think of this as a potential relationship.\n",
    "\n",
    "The organization you are interested in has likely done an analysis of what they want, what they are willing to do, and what environment helps them thrive. \n",
    "\n",
    "Be willing to listen and understand their side. Be willing to actively demonstrate you understand their point of view. \n",
    "\n",
    "Do your best to attain an arrangement that works for both. If no satisfactory arrangement can be found, it is best that both parties cordially walk away from each other. "
   ]
  },
  {
   "cell_type": "markdown",
   "metadata": {
    "slideshow": {
     "slide_type": "slide"
    }
   },
   "source": [
    "<h2 align='center'>Example of work I do (optional)</h2>"
   ]
  },
  {
   "cell_type": "markdown",
   "metadata": {
    "slideshow": {
     "slide_type": "slide"
    }
   },
   "source": [
    "<h2 align='center'>Q & A</h2>"
   ]
  },
  {
   "cell_type": "markdown",
   "metadata": {
    "slideshow": {
     "slide_type": "slide"
    }
   },
   "source": [
    "<h2 align='center'>Get in touch with me</h2>\n",
    "\n",
    "You can find me running meetups for PyLadies Vancouver https://www.meetup.com/PyLadies-Vancouver/, and collaborating to create networking and portfolio building events in data science https://www.vancouverdatajam.ca/. \n",
    "\n",
    "I am on Twitter [@LGFunderburk](https://twitter.com/LGFunderburk) and on LinkedIn https://www.linkedin.com/in/laurafunderburk/\n",
    "\n",
    "Send me a message if you'd like to chat some more."
   ]
  }
 ],
 "metadata": {
  "celltoolbar": "Slideshow",
  "kernelspec": {
   "display_name": "Python 3",
   "language": "python",
   "name": "python3"
  },
  "language_info": {
   "codemirror_mode": {
    "name": "ipython",
    "version": 3
   },
   "file_extension": ".py",
   "mimetype": "text/x-python",
   "name": "python",
   "nbconvert_exporter": "python",
   "pygments_lexer": "ipython3",
   "version": "3.8.5"
  }
 },
 "nbformat": 4,
 "nbformat_minor": 4
}
